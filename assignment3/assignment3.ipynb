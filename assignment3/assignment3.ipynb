{
 "nbformat": 4,
 "nbformat_minor": 2,
 "metadata": {
  "language_info": {
   "name": "python",
   "codemirror_mode": {
    "name": "ipython",
    "version": 3
   }
  },
  "orig_nbformat": 2,
  "file_extension": ".py",
  "mimetype": "text/x-python",
  "name": "python",
  "npconvert_exporter": "python",
  "pygments_lexer": "ipython3",
  "version": 3
 },
 "cells": [
  {
   "cell_type": "code",
   "execution_count": null,
   "metadata": {},
   "outputs": [],
   "source": [
    "#Imports and preamble\n",
    "#Carl Östling & Erik Gunnarsson\n",
    "import pandas as pd\n",
    "import matplotlib.pyplot as plt"
   ]
  },
  {
   "cell_type": "code",
   "execution_count": null,
   "metadata": {},
   "outputs": [],
   "source": [
    "all_protein = pd.read_csv(\"data_all.csv\")"
   ]
  },
  {
   "cell_type": "code",
   "execution_count": null,
   "metadata": {},
   "outputs": [],
   "source": [
    "#Make the plot\n",
    "x = all_protein[\"phi\"]\n",
    "y = all_protein[\"psi\"]\n",
    "\n",
    "plt.figure(figsize=(30,20))\n",
    "plt.scatter(x, y, s=500, color=\"b\", alpha=0.5)\n",
    "plt.xlabel(\"Phi\",fontsize=30)\n",
    "plt.ylabel(\"Psi\", fontsize=30)\n",
    "plt.tick_params(axis=\"both\",which=\"major\",labelsize=20)\n",
    "\n",
    "#Puts the protein name on the points, this for loop takes some time to run\n",
    "for i, code in enumerate(all_protein[\"Name\"]):\n",
    "    plt.annotate(code, (x[i], y[i]), fontsize=10, ha=\"center\", va=\"center\")\n",
    "\n",
    "plt.show\n",
    "plt.close"
   ]
  }
 ]
}