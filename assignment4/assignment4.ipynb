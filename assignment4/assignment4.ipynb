{
  "nbformat": 4,
  "nbformat_minor": 0,
  "metadata": {
    "colab": {
      "name": "assignment4.ipynb",
      "provenance": []
    },
    "kernelspec": {
      "name": "python3",
      "display_name": "Python 3"
    }
  },
  "cells": [
    {
      "cell_type": "code",
      "execution_count": 11,
      "metadata": {},
      "outputs": [],
      "source": [
        "from sklearn.naive_bayes import MultinomialNB\n",
        "from sklearn.naive_bayes import BernoulliNB\n",
        "from sklearn.model_selection import train_test_split\n",
        "from sklearn.feature_extraction.text import CountVectorizer\n",
        "from sklearn.metrics import accuracy_score\n",
        "import pandas as pd\n",
        "import os\n"
      ]
    },
    {
      "cell_type": "markdown",
      "metadata": {
        "colab_type": "text",
        "id": "bVhbQ0E3mb9S"
      },
      "source": [
        "# Preprocessing"
      ]
    },
    {
      "cell_type": "code",
      "execution_count": 35,
      "metadata": {},
      "outputs": [
        {
          "name": "stdout",
          "output_type": "stream",
          "text": " am not \nsure how to verify if the DVD is CSS-encrypted. If someone has a suggestion, \nplease let me know. However, if it is true, then it's very interesting that \nDisney has released such a major movie without encryption.\n\n\n\n\nFrom rssfeeds@jmason.org  Tue Oct  8 10:55:34 2002\nReturn-Path: <rssfeeds@example.com>\nDelivered-To: yyyy@localhost.example.com\nReceived: from localhost (jalapeno [127.0.0.1])\n\tby jmason.org (Postfix) with ESMTP id A0CCC16F17\n\tfor <jm@localhost>; Tue,  8 Oct 2002 10:55:29 +0100 (IST)\nReceived: from jalapeno [127.0.0.1]\n\tby localhost with IMAP (fetchmail-5.9.0)\n\tfor jm@localhost (single-drop); Tue, 08 Oct 2002 10:55:29 +0100 (IST)\nReceived: from dogma.slashnull.org (localhost [127.0.0.1]) by\n    dogma.slashnull.org (8.11.6/8.11.6) with ESMTP id g9880QK06043 for\n    <jm@jmason.org>; Tue, 8 Oct 2002 09:00:27 +0100\nMessage-Id: <200210080800.g9880QK06043@dogma.slashnull.org>\nTo: yyyy@example.com\nFrom: boingboing <rssfeeds@example.com>\nSubject: Reclaiming privacy with laser-pointers\nDate: Tue, 08 Oct 2002 08:00:26 -0000\nContent-Type: text/plain; encoding=utf-8\nX-Spam-Status: No, hits=-969.3 required=5.0\n\ttests=AWL,T_NONSENSE_FROM_40_50\n\tversion=2.50-cvs\nX-Spam-Level: \n\nURL: http://boingboing.net/#85537483\nDate: Not supplied\n\nHere's a how-to explaining how to blind a surveillance camera a laser-pointer. \nLink[1] Discuss[2] (_Thanks, Mike[3]!_)\n\n[1] http://www.naimark.net/projects/zap/howto.html\n[2] http://www.quicktopic.com/boing/H/MMYu4tp9w54\n[3] http://www.objectif.org\n\n\n\nFrom rssfeeds@jmason.org  Tue Oct  8 10:55:35 2002\nReturn-Path: <rssfeeds@example.com>\nDelivered-To: yyyy@localhost.example.com\nReceived: from localhost (jalapeno [127.0.0.1])\n\tby jmason.org (Postfix) with ESMTP id CA3E116F16\n\tfor <jm@localhost>; Tue,  8 Oct 2002 10:55:30 +0100 (IST)\nReceived: from jalapeno [127.0.0.1]\n\tby localhost with IMAP (fetchmail-5.9.0)\n\tfor jm@localhost (single-drop); Tue, 08 Oct 2002 10:55:30 +0100 (IST)\nReceived: from dogma.slashnull.org (localhost [127.0.0.1]) by\n    dogma.slashnull.org (8.11.6/8.11.6) with ESMTP id g9880XK06083 for\n    <jm@jmason.org>; Tue, 8 Oct 2002 09:00:33 +0100\nMessage-Id: <200210080800.g9880XK06083@dogma.slashnull.org>\nTo: yyyy@example.com\nFrom: boingboing <rssfeeds@example.com>\nSubject: 10Mb/s through skin\nDate: Tue, 08 Oct 2002 08:00:32 -0000\nContent-Type: text/plain; encoding=utf-8\nX-Spam-Status: No, hits=-970.6 required=5.0\n\ttests=AWL,T_NONSENSE_FROM_40_50\n\tversion=2.50-cvs\nX-Spam-Level: \n\nURL: http://boingboing.net/#85534163\nDate: Not supplied\n\nNTT DoCoMo have released a paper on the use of human flesh as a networking \nmedium: \n\n    A device attached to a PDA can send and receive weak electrical signals \n    through people, with human bodies as communications circuits, the paper \n    said, citing sources close to the companies. \n\n    Apparel and handbags have their own conductivity, allowing an electrical \n    connection to a PDA that can remain in one's pocket, the paper said. \n\n    In this way, people can exchange e-mail addresses, names and phone numbers \n    while shaking hands, with the data automatically written into both their \n    PDAs, the paper said.  \n\nLink[1] Discuss[2] (_Thanks, Alan!_)\n\n[1] http://www.news.com.au/common/story_page/0,4057,5239758%255E13762,00.html\n[2] http://www.quicktopic.com/boing/H/tFBrRGn3CvLk9\n\n\n\nFrom rssfeeds@jmason.org  Tue Oct  8 10:55:36 2002\nReturn-Path: <rssfeeds@example.com>\nDelivered-To: yyyy@localhost.example.com\nReceived: from localhost (jalapeno [127.0.0.1])\n\tby jmason.org (Postfix) with ESMTP id 7190F16F19\n\tfor <jm@localhost>; Tue,  8 Oct 2002 10:55:32 +0100 (IST)\nReceived: from jalapeno [127.0.0.1]\n\tby localhost with IMAP (fetchmail-5.9.0)\n\tfor jm@localhost (single-drop); Tue, 08 Oct 2002 10:55:32 +0100 (IST)\nReceived: from dogma.slashnull.org (localhost [127.0.0.1]) by\n    dogma.slashnull.org (8.11.6/8.11.6) with ESMTP id g9880TK06060 for\n    <jm@jmason.org>; Tue, 8 Oct 2002 09:00:29 +0100\nMessage-Id: <200210080800.g9880TK06060@dogma.slashnull.org>\nTo: yyyy@example.com\nFrom: boingboing <rssfeeds@example.com>\nSubject: My OS X Keynote\nDate: Tue, 08 Oct 2002 08:00:29 -0000\nContent-Type: text/plain; encoding=utf-8\nX-Spam-Status: No, hits=-972.0 required=5.0\n\ttests=AWL,T_NONSENSE_FROM_40_50\n\tversion=2.50-cvs\nX-Spam-Level: \n\nURL: http://boingboing.net/#85534676\nDate: Not supplied\n\nI spoke at the Mac OS X conference in Santa Clara last week. It was a really \nfun event, and it was great meeting a lot of people whom I previously knew only \nthrough email, like Rael Dornfest, Danny O'Brien, and Glenn Fleishman. Here's \nthe talk I gave. Link[1] Discuss[2]\n\n[1] http://boingboing.net/gadgets.html\n[2] http://www.quicktopic.com/16/H/SLVudz57pyHb\n\n\n\nFrom rssfeeds@jmason.org  Tue Oct  8 10:55:33 2002\nReturn-Path: <rssfeeds@example.com>\nDelivered-To: yyyy@localhost.example.com\nReceived: from localhost (jalapeno [127.0.0.1])\n\tby jmason.org (Postfix) with ESMTP id 2B90016F18\n\tfor <jm@localhost>; Tue,  8 Oct 2002 10:55:27 +0100 (IST)\nReceived: from jalapeno [127.0.0.1]\n\tby localhost with IMAP (fetchmail-5.9.0)\n\tfor jm@localhost (single-drop); Tue, 08 Oct 2002 10:55:27 +0100 (IST)\nReceived: from dogma.slashnull.org (localhost [127.0.0.1]) by\n    dogma.slashnull.org (8.11.6/8.11.6) with ESMTP id g98805K06013 for\n    <jm@jmason.org>; Tue, 8 Oct 2002 09:00:05 +0100\nMessage-Id: <200210080800.g98805K06013@dogma.slashnull.org>\nTo: yyyy@example.com\nFrom: diveintomark <rssfeeds@example.com>\nSubject: My Good Easy\nDate: Tue, 08 Oct 2002 08:00:04 -0000\nContent-Type: text/plain; encoding=utf-8\nX-Spam-Status: No, hits=-973.3 required=5.0\n\ttests=AWL,T_NONSENSE_FROM_40_50\n\tversion=2.50-cvs\nX-Spam-Level: \n\nURL: http://diveintomark.org/archives/2002/10/07.html#my_good_easy\nDate: 2002-10-07T17:59:05-05:00\n\n_Joe Gregorio_: My next pet project[1]. &#8220;Trying to re-create the \"Good \nEasy[2]\" on a Windows machine.&#8221; I have also made half-hearted attempts in \nthis direction, as I am forced to use Windows during the day. I say \nhalf-hearted because I'm still application-centric, and I don't go as far with \nkeyboard shortcuts as I could. But I don't use the desktop at all (never have, \non any system), and I don't use ctrl alt keyboard shortcuts because I \npersonally find them awkward (YMMV). If you must use Windows, the first step \ntowards a productive system is managing your Start menu. \n\nI use the main level of the Start menu with numbered shortcuts to my most \ncommon programs. \"0 Control Panel[3]\", \"1 Mozilla[4]\", \"2 Emacs[5]\", \"3 DOS \nhome\", \"4 DOS work\", \"5 DOS incoming\" (each of which gives me a command line, \nbut in different directories), \"7 Python[6]\", \"9 IE\". Also \"# Explorer home\", \n\"$ Explorer work\", \"% Explorer incoming\", which open Explorer windows in \nvarious useful directories (the same directories as the DOS shortcuts, only \nwith the shift key held down, and yes, I intentionally set it up so that $ went \nto my work folder). Less-used programs are taken out of their useless submenus \n(as installed) and moved directly into the Programs submenu and given unique \nfirst letters as needed. \"Ad-aware[7]\", \"Excel[8]\", \"IM\", \"Netscape 4[9]\", \n\"Paint Shop Pro\", \"Query Tool (ODBC)[10]\", \"VMWare[11]\", \"Word[12]\". All other \nsubmenus except Startup are removed from the Programs menu. (Yes, delete \n\"Accessories\". Do you honestly ever use it? If so, it's probably a sign of a \nlarger productivity problem.) Things which never need to be run manually (like \nWinZip and Quicktime) are removed from the Programs menu. Maintaining a clean \nPrograms menu is an ongoing struggle, but well worth it. \n\nOn most modern keyboards, there is a key next to your left alt key that opens \nthe start menu, which you can press with your left thumb without taking your \nfingers off the home keys. Otherwise ctrl esc always works. Menu 4 gives me a \nnew command prompt in my work directory. Menu P N runs Netscape 4 (for \ncompatibility testing in my day job, ugh). Mozilla and Emacs are almost always \nopen, but I quit lesser-used applications as soon as I'm done using them \n(mostly because my laptop doesn't have a lot of memory). \n\nI install Cygwin[13] so that the command line is actually useful. Cygwin is a \ncollection of Windows ports of all your favorite UNIX utilities, including mv, \ncp, scp, ssh, man, tar, less, grep, patch, ncftp, cvs, and many others. And \nbash, which I don't use because I dislike how it handles Windows pathnames. I \nalso set the properties of my command line shortcuts to set the window size to \n120 x 50 (almost full screen at 1024 x 768), and screen buffer size to 120 x \n3000. Set window position at 0 x 0, and don't let the system position the \nwindow. \n\nIn Mozilla, I set my home page to \"about:blank\", set Internet Search to search \nwith Google, use Tabbed Browsing, open tabs instead of windows in all possible \ncases, always show the tab bar, and load links in the background (essential for \nweblog surfing, you can ctrl click links to open them in new tabs in the \nbackground). Under Scripts & Plugins, I do not allow scripts to open \nunrequested windows. I turn off the sidebar, turn on the Site Navigation Bar, \ndelete all pre-installed bookmarks, and create two bookmarks: one which takes \nme to my webmail, and another which takes me to my internal site search[14], \nfrom which I can find all other bookmarks I need. \n\nIn Internet Explorer, I set my home page to the page to edit my weblog, since \nthat's the only thing I do in Internet Explorer. alt tab back and forth between \nMozilla and IE is easier than ctrl pgup/pgdown between tabs within Mozilla, \nsince TEXTAREAs in Mozilla lose focus when you switch tabs, making copying and \npasting weblog entries virtually impossible. \n\nI use Emacs locally and vi remotely, because the default behavior of Emacs is \nso heinous as to render it unusable. (For instance, editing a CGI script named \nfoo.cgi on a web server with Emacs would generate a foo.cgi~ backup file, which \nis world-readable and is sent as plain text to any browser that asks. Try this \nsometime on your favorite web site.) Among other things, my .emacs file (which \nis actually called _emacs on Windows) instructs Emacs to store all backup files \nin a single directory (d:\\backup); to treat all XML files as DocBook, all CGI \nscripts as Python, and all SQL scripts as PL/SQL; to use Cygwin's bash shell \nfor M-x-shell; to use a single maximized frame with no menubar, titled as the \nname of the current file; to show column numbers; to accept \"y\" and \"n\" for \nyes/no questions; not to blink; not to beep; and to close the current file when \nI press M-w. I use some weird registry hacks and a hacked notepad.exe to get \nall text files to open in Emacs. (I got this idea from Ultraedit[15].) My \n_emacs file is my second most backed-up possession. \n\nI don't use Windows' useless directory structure for user home directories. On \nmy D drive I have d:\\home (contains directories for my books and other personal \nprojects, each under CVS control&#8212;also set as my home directory using the \nHOME environment variable), d:\\work (contains directories for each work \nproject, also under CVS), d:\\incoming (set as default download directory for \nall programs that download things), and d:\\backup (used by Emacs, and for \ntemporary storage, for instance for storing originals when checking out newly \ncreated CVS projects). I don't know or care what's where on my C drive. \n\nI have tried many, many address books, and still store all my contacts, email \naddresses, snail mail addresses, phone numbers, and other vital personal \ninformation in a text file called phone, stored in d:\\home\\phone. It is not in \nany particular format, other than being plain text and usually including blank \nlines between entries. I categorize people with simple keywords in parentheses \nafter their name, and use M-x-occur in Emacs to search by keyword. This file is \nmy single most backed-up possession. \n\nOther essential free Windows utilities I use (in no particular order): TweakUI\n[16], Cygwin[17], Guidescope[18], ZoneAlarm[19].\n\n\n\n[1]  http://bitworking.org/Oct2002.html#X631695997519494480\n[2]  http://www.winterspeak.com/columns/082001.html\n[3]  http://www.annoyances.org/exec/show/article02-013\n[4]  http://www.mozilla.org/\n[5]  http://www.gnu.org/software/emacs/windows/ntemacs.html\n[6]  http://www.activestate.com/Products/ActivePython/\n[7]  http://www.lavasoftusa.com/\n[8]  http://www.openoffice.org/\n[9]  http://sillydog.org/narchive/\n[10] http://gpoulose.home.att.net/\n[11] http://www.vmware.com/\n[12] http://www.openoffice.org/\n[13] http://www.cygwin.com/\n[14] http://diveintomark.org/mt/mt-search.cgi\n[15] http://www.ultraedit.com/downloads/index.html#notepad\n     Replacing Notepad with Ultraedit-32\n[16] http://www.microsoft.com/ntworkstation/downloads/PowerToys/Networking/NTTweakUI.asp\n[17] http://www.cygwin.com/\n[18] http://www.guidescope.com/\n[19] http://download.com.com/3000-2092-10039884.html?part=zonealarm&subj=dlpage\n\n\n\nFrom rssfeeds@jmason.org  Tue Oct  8 10:55:38 2002\nReturn-Path: <rssfeeds@example.com>\nDelivered-To: yyyy@localhost.example.com\nReceived: from localhost (jalapeno [127.0.0.1])\n\tby jmason.org (Postfix) with ESMTP id 837A716F03\n\tfor <jm@localhost>; Tue,  8 Oct 2002 10:55:34 +0100 (IST)\nReceived: from jalapeno [127.0.0.1]\n\tby localhost with IMAP (fetchmail-5.9.0)\n\tfor jm@localhost (single-drop); Tue, 08 Oct 2002 10:55:34 +0100 (IST)\nReceived: from dogma.slashnull.org (localhost [127.0.0.1]) by\n    dogma.slashnull.org (8.11.6/8.11.6) with ESMTP id g98809K06025 for\n    <jm@jmason.org>; Tue, 8 Oct 2002 09:00:09 +0100\nMessage-Id: <200210080800.g98809K06025@dogma.slashnull.org>\nTo: yyyy@example.com\nFrom: aaronsw <rssfeeds@example.com>\nSubject: Eldred Press Watch\nDate: Tue, 08 Oct 2002 08:00:08 -0000\nContent-Type: text/plain; encoding=utf-8\nX-Spam-Status: No, hits=-974.6 required=5.0\n\ttests=AWL,T_NONSENSE_FROM_40_50\n\tversion=2.50-cvs\nX-Spam-Level: \n\nURL: http://www.aaronsw.com/weblog/000641\nDate: 2002-10-07T15:55:20-06:00\n\nEric Eldred _himself_ was just on Marketplace[1]. \n\nNYTimes: Debate to Intensify on Copyright Extension Law[2] (front page of the \nbusiness section, below the fold). \" It will fall to Mr. Lessig, who is a \nformer clerk for Supreme Court Justice Antonin Scalia and who has become a kind \nof rock star for the digital liberties set, to convince the justices to accept \nthe unconventional analysis. If they do, the decision could be a turning point \nin redefining a balance between copyright consumers and producers — and the \ntechnology companies that are often in the middle.\" \n\nNewsweek: Glitterati vs. Geeks[3]. \"Larry Lessig admits it: he’s nervous. Who \nwouldn’t be? [...] In its narrowest context, Eldred v. Ashcroft deals with the \nseemingly arcane issue of the length of copyrights for books, films and music. \nBut it’s actually a high-noon showdown between two great industries at odds in \nthe age of the Internet.\" 'There’s a sense of deja vu to this. Television was \nsupposed to be the death of movies. And in 1982, the film industry’s \nsilver-tongued lobbyist Jack Valenti testified that “the VCR is to the American \nfilm producer and the American public as the Boston strangler is to the woman \nhome alone.” (Video sales are now the studios’ biggest moneymaker.) Naturally, \nHollywood regards the computer/Internet combo as scarier than “Nightmare on Elm \nStreet.”'\n\n\n\n[1] http://www.marketplace.org/\n[2] http://www.nytimes.com/2002/10/07/business/media/07ARGU.html\n[3] http://www.msnbc.com/news/817175.asp\n\n\n\nFrom rssfeeds@jmason.org  Tue Oct  8 10:55:43 2002\nReturn-Path: <rssfeeds@example.com>\nDelivered-To: yyyy@localhost.example.com\nReceived: from localhost (jalapeno [127.0.0.1])\n\tby jmason.org (Postfix) with ESMTP id 06FB816F03\n\tfor <jm@localhost>; Tue,  8 Oct 2002 10:55:41 +0100 (IST)\nReceived: from jalapeno [127.0.0.1]\n\tby localhost with IMAP (fetchmail-5.9.0)\n\tfor jm@localhost (single-drop); Tue, 08 Oct 2002 10:55:41 +0100 (IST)\nReceived: from dogma.slashnull.org (localhost [127.0.0.1]) by\n    dogma.slashnull.org (8.11.6/8.11.6) with ESMTP id g9880UK06072 for\n    <jm@jmason.org>; Tue, 8 Oct 2002 09:00:30 +0100\nMessage-Id: <200210080800.g9880UK06072@dogma.slashnull.org>\nTo: yyyy@example.com\nFrom: boingboing <rssfeeds@example.com>\nSubject: Physics auction nets half-mil for Einstein\nDate: Tue, 08 Oct 2002 08:00:30 -0000\nContent-Type: text/plain; encoding=utf-8\nX-Spam-Status: No, hits=-981.2 required=5.0\n\ttests=AWL,T_NONSENSE_FROM_40_50\n\tversion=2.50-cvs\nX-Spam-Level: \n\nURL: http://boingboing.net/#85534316\nDate: Not supplied\n\nLast Friday's Christie's auction of original physics manuscripts included \noriginal works by Einstein, Curie, Newton and other physics rock-stars. The \nEinstein (which included an early attempt to prove relativity) went to an \nanonymous bidder for $500,000. Link[1] Discuss[2]\n\n[1] http://www.sciam.com/article.cfm?chanID=sa003&articleID=0007B1D4-EC91-1D9D-815A809EC5880000\n[2] http://www.quicktopic.com/boing/H/uiCM4MRSGBDC\n\n\n\nFrom rssfeeds@jmason.org  Tue Oct  8 10:55:43 2002\nReturn-Path: <rssfeeds@example.com>\nDelivered-To: yyyy@localhost.example.com\nReceived: from localhost (jalapeno [127.0.0.1])\n\tby jmason.org (Postfix) with ESMTP id 6646B16F16\n\tfor <jm@localhost>; Tue,  8 Oct 2002 10:55:42 +0100 (IST)\nReceived: from jalapeno [127.0.0.1]\n\tby localhost with IMAP (fetchmail-5.9.0)\n\tfor jm@localhost (single-drop); Tue, 08 Oct 2002 10:55:42 +0100 (IST)\nReceived: from dogma.slashnull.org (localhost [127.0.0.1]) by\n    dogma.slashnull.org (8.11.6/8.11.6) with ESMTP id g9880SK06054 for\n    <jm@jmason.org>; Tue, 8 Oct 2002 09:00:28 +0100\nMessage-Id: <200210080800.g9880SK06054@dogma.slashnull.org>\nTo: yyyy@example.com\nFrom: boingboing <rssfeeds@example.com>\nSubject: Welcome, Danny and Quinn!\nDate: Tue, 08 Oct 2002 08:00:28 -0000\nContent-Type: text/plain; encoding=utf-8\nX-Spam-Status: No, hits=-982.5 required=5.0\n\ttests=AWL,T_NONSENSE_FROM_40_50\n\tversion=2.50-cvs\nX-Spam-Level: \n\nURL: http://boingboing.net/#85534853\nDate: Not supplied\n\nThis time around, we have _two, two, two_ Guestbloggers for the price of one. \nQuinn Norton and Danny O'Brien have agreed to fill the sidebar slot for a \nlittle while. Danny and Quinn and their rommie Gilbert are just about the most \nfun Bay Areans I've had the pleasure of hanging out with. Between the three of \nthem, they're capable of being entertaining on the subjects of Python, \ncopyright, pottery, usability (a conversation with Quinn about usability made \nit, almost verbatim, into my second novel \"Eastern Standard Tribe\"), \nload-balancing, free software, nerd culture, British cuisine, bodily ailments, \npregnancy... Well, you name it. I can't wait to see what they post! Discuss[1]\n\n[1] http://www.quicktopic.com/boing/H/NYtiY2fGTe3iE\n\n\n\nFrom rssfeeds@jmason.org  Tue Oct  8 10:55:52 2002\nReturn-Path: <rssfeeds@example.com>\nDelivered-To: yyyy@localhost.example.com\nReceived: from localhost (jalapeno [127.0.0.1])\n\tby jmason.org (Postfix) with ESMTP id A815D16F03\n\tfor <jm@localhost>; Tue,  8 Oct 2002 10:55:51 +0100 (IST)\nReceived: from jalapeno [127.0.0.1]\n\tby localhost with IMAP (fetchmail-5.9.0)\n\tfor jm@localhost (single-drop); Tue, 08 Oct 2002 10:55:51 +0100 (IST)\nReceived: from dogma.slashnull.org (localhost [127.0.0.1]) by\n    dogma.slashnull.org (8.11.6/8.11.6) with ESMTP id g98815K06133 for\n    <jm@jmason.org>; Tue, 8 Oct 2002 09:01:06 +0100\nMessage-Id: <200210080801.g98815K06133@dogma.slashnull.org>\nTo: yyyy@example.com\nFrom: guardian <rssfeeds@example.com>\nSubject: Boy shot at school gate\nDate: Tue, 08 Oct 2002 08:01:05 -0000\nContent-Type: text/plain; encoding=utf-8\nX-Spam-Status: No, hits=-991.7 required=5.0\n\ttests=AWL,T_NONSENSE_FROM_40_50\n\tversion=2.50-cvs\nX-Spam-Level: \n\nURL: http://www.newsisfree.com/click/-2,8655711,215/\nDate: 2002-10-08T03:30:55+01:00\n\n*Gun violence in America: *A 13-year-old boy was shot in the chest and \ncritically wounded outside of his school in Maryland becoming the latest victim \nof a sniper who has already killed six people.\n\n\n\n"
        },
        {
          "ename": "KeyboardInterrupt",
          "evalue": "",
          "output_type": "error",
          "traceback": [
            "\u001b[1;31m---------------------------------------------------------------------------\u001b[0m",
            "\u001b[1;31mKeyboardInterrupt\u001b[0m                         Traceback (most recent call last)",
            "\u001b[1;32m<ipython-input-35-73d9256dcbbf>\u001b[0m in \u001b[0;36m<module>\u001b[1;34m\u001b[0m\n\u001b[0;32m     17\u001b[0m \u001b[1;33m\u001b[0m\u001b[0m\n\u001b[0;32m     18\u001b[0m     \u001b[1;32mreturn\u001b[0m \u001b[0memails\u001b[0m\u001b[1;33m\u001b[0m\u001b[1;33m\u001b[0m\u001b[0m\n\u001b[1;32m---> 19\u001b[1;33m \u001b[0memails_easy_ham\u001b[0m \u001b[1;33m=\u001b[0m \u001b[0mpopulateDF\u001b[0m\u001b[1;33m(\u001b[0m\u001b[1;33m{\u001b[0m\u001b[1;34m\"easy_ham_2002\"\u001b[0m\u001b[1;33m:\u001b[0m\u001b[1;34m\"ham\"\u001b[0m\u001b[1;33m,\u001b[0m\u001b[1;34m\"spam_2002\"\u001b[0m\u001b[1;33m:\u001b[0m\u001b[1;34m\"spam\"\u001b[0m\u001b[1;33m}\u001b[0m\u001b[1;33m)\u001b[0m\u001b[1;33m\u001b[0m\u001b[1;33m\u001b[0m\u001b[0m\n\u001b[0m\u001b[0;32m     20\u001b[0m \u001b[0memails_hard_ham\u001b[0m \u001b[1;33m=\u001b[0m \u001b[0mpopulateDF\u001b[0m\u001b[1;33m(\u001b[0m\u001b[1;33m{\u001b[0m\u001b[1;34m\"hard_ham_2002\"\u001b[0m\u001b[1;33m:\u001b[0m\u001b[1;34m\"ham\"\u001b[0m\u001b[1;33m,\u001b[0m\u001b[1;34m\"spam_2002\"\u001b[0m\u001b[1;33m:\u001b[0m\u001b[1;34m\"spam\"\u001b[0m\u001b[1;33m}\u001b[0m\u001b[1;33m)\u001b[0m\u001b[1;33m\u001b[0m\u001b[1;33m\u001b[0m\u001b[0m\n",
            "\u001b[1;32m<ipython-input-35-73d9256dcbbf>\u001b[0m in \u001b[0;36mpopulateDF\u001b[1;34m(dir_label)\u001b[0m\n\u001b[0;32m     14\u001b[0m                 \u001b[0mnew_row\u001b[0m \u001b[1;33m=\u001b[0m \u001b[0mpd\u001b[0m\u001b[1;33m.\u001b[0m\u001b[0mDataFrame\u001b[0m\u001b[1;33m(\u001b[0m\u001b[0mdata\u001b[0m\u001b[1;33m=\u001b[0m\u001b[1;33m{\u001b[0m\u001b[1;34m'text'\u001b[0m\u001b[1;33m:\u001b[0m \u001b[1;33m[\u001b[0m\u001b[0mtext\u001b[0m\u001b[1;33m]\u001b[0m\u001b[1;33m,\u001b[0m \u001b[1;34m'category'\u001b[0m\u001b[1;33m:\u001b[0m \u001b[1;33m[\u001b[0m\u001b[0mdir_label\u001b[0m\u001b[1;33m[\u001b[0m\u001b[0mdir_path\u001b[0m\u001b[1;33m]\u001b[0m\u001b[1;33m]\u001b[0m\u001b[1;33m}\u001b[0m\u001b[1;33m)\u001b[0m\u001b[1;33m\u001b[0m\u001b[1;33m\u001b[0m\u001b[0m\n\u001b[0;32m     15\u001b[0m                 \u001b[0mnew_row\u001b[0m\u001b[1;33m[\u001b[0m\u001b[1;34m'category_num'\u001b[0m\u001b[1;33m]\u001b[0m \u001b[1;33m=\u001b[0m \u001b[0mnew_row\u001b[0m\u001b[1;33m.\u001b[0m\u001b[0mcategory\u001b[0m\u001b[1;33m.\u001b[0m\u001b[0mmap\u001b[0m\u001b[1;33m(\u001b[0m\u001b[1;33m{\u001b[0m\u001b[1;34m'ham'\u001b[0m\u001b[1;33m:\u001b[0m\u001b[1;36m0\u001b[0m\u001b[1;33m,\u001b[0m \u001b[1;34m'spam'\u001b[0m\u001b[1;33m:\u001b[0m\u001b[1;36m1\u001b[0m\u001b[1;33m}\u001b[0m\u001b[1;33m)\u001b[0m\u001b[1;33m\u001b[0m\u001b[1;33m\u001b[0m\u001b[0m\n\u001b[1;32m---> 16\u001b[1;33m                 \u001b[0memails\u001b[0m \u001b[1;33m=\u001b[0m \u001b[0memails\u001b[0m\u001b[1;33m.\u001b[0m\u001b[0mappend\u001b[0m\u001b[1;33m(\u001b[0m\u001b[0mnew_row\u001b[0m\u001b[1;33m,\u001b[0m \u001b[0mignore_index\u001b[0m\u001b[1;33m=\u001b[0m\u001b[1;32mTrue\u001b[0m\u001b[1;33m)\u001b[0m\u001b[1;33m\u001b[0m\u001b[1;33m\u001b[0m\u001b[0m\n\u001b[0m\u001b[0;32m     17\u001b[0m \u001b[1;33m\u001b[0m\u001b[0m\n\u001b[0;32m     18\u001b[0m     \u001b[1;32mreturn\u001b[0m \u001b[0memails\u001b[0m\u001b[1;33m\u001b[0m\u001b[1;33m\u001b[0m\u001b[0m\n",
            "\u001b[1;31mKeyboardInterrupt\u001b[0m: "
          ]
        }
      ],
      "source": [
        "\n",
        "def populateDF(dir_label):\n",
        "    emails = pd.DataFrame(columns={\"text\",\"category\",\"category_num\"})\n",
        "    for dir_path in dir_label.keys():\n",
        "        entries = os.listdir(dir_path)\n",
        "        for entry in entries:\n",
        "            entry = dir_path+\"/\"+entry\n",
        "            with open(entry) as file:\n",
        "                try:\n",
        "                    text = file.read()\n",
        "                except:\n",
        "                    print(\"file \"+ entry + \" was not readable\")\n",
        "                    continue\n",
        "                new_row = pd.DataFrame(data={'text': [text], 'category': [dir_label[dir_path]]})\n",
        "                new_row['category_num'] = new_row.category.map({'ham':0, 'spam':1})\n",
        "                emails = emails.append(new_row, ignore_index=True)\n",
        "                  \n",
        "    return emails\n",
        "emails_easy_ham = populateDF({\"easy_ham_2002\":\"ham\",\"spam_2002\":\"spam\"})\n",
        "emails_hard_ham = populateDF({\"hard_ham_2002\":\"ham\",\"spam_2002\":\"spam\"})\n"
      ]
    },
    {
      "cell_type": "code",
      "execution_count": 45,
      "metadata": {},
      "outputs": [
        {
          "name": "stdout",
          "output_type": "stream",
          "text": "<class 'scipy.sparse.csr.csr_matrix'>\n"
        }
      ],
      "source": [
        "x_train_easy, x_test_easy, y_train_easy, y_test_easy = train_test_split(emails_easy_ham[\"text\"], emails_easy_ham[\"category_num\"], test_size=0.25)\n",
        "x_train_hard, x_test_hard, y_train_hard, y_test_hard = train_test_split(emails_hard_ham[\"text\"], emails_hard_ham[\"category_num\"], test_size=0.25)\n",
        "\n",
        "vectorizer_easy = CountVectorizer()\n",
        "vectorizer_hard = CountVectorizer()\n",
        "\n",
        "x_train_easy = vectorizer_easy.fit_transform(x_train_easy)\n",
        "fsdf = vectorizer_easy.get_feature_names()\n",
        "\n",
        "x_test_easy = vectorizer_easy.transform(x_test_easy)\n",
        "x_train_hard = vectorizer_hard.fit_transform(x_train_hard)\n",
        "x_test_hard = vectorizer_hard.transform(x_test_hard)\n",
        "\n",
        "y_train_easy = y_train_easy.astype(\"int\")\n",
        "y_train_hard = y_train_hard.astype(\"int\")\n"
      ]
    },
    {
      "cell_type": "code",
      "execution_count": null,
      "metadata": {},
      "outputs": [],
      "source": []
    },
    {
      "cell_type": "markdown",
      "metadata": {
        "colab_type": "text",
        "id": "hiMmfkBdgMrw"
      },
      "source": [
        "# Fitting and predictions"
      ]
    },
    {
      "cell_type": "code",
      "execution_count": 24,
      "metadata": {},
      "outputs": [
        {
          "name": "stdout",
          "output_type": "stream",
          "text": "Accuracy of multiNB on easy ham:  0.9711286089238845\nAccuracy of multiNB on hard ham:  0.9358288770053476\n"
        }
      ],
      "source": [
        "multiNB_easy = MultinomialNB()\n",
        "multiNB_hard = MultinomialNB()\n",
        "\n",
        "\n",
        "multiNB_easy.fit(x_train_easy,y_train_easy)\n",
        "multiNB_hard.fit(x_train_hard,y_train_hard)\n",
        "\n",
        "\n",
        "y_pred_multiNB_easy = multiNB_easy.predict(x_test_easy)\n",
        "y_pred_multiNB_hard = multiNB_hard.predict(x_test_hard)\n",
        "\n",
        "\n",
        "print(\"Accuracy of multiNB on easy ham: \", accuracy_score(y_pred_multiNB_easy, y_test_easy.to_list()))\n",
        "print(\"Accuracy of multiNB on hard ham: \", accuracy_score(y_pred_multiNB_hard, y_test_hard.to_list()))"
      ]
    },
    {
      "cell_type": "code",
      "execution_count": 32,
      "metadata": {},
      "outputs": [
        {
          "name": "stdout",
          "output_type": "stream",
          "text": "Accuracy of berNB on easy ham:  0.8976377952755905\nAccuracy of berNB on hard ham:  0.8716577540106952\n"
        }
      ],
      "source": [
        "bernNB_easy = BernoulliNB(binarize=1.0)\n",
        "bernNB_hard = BernoulliNB(binarize=1.0)\n",
        "\n",
        "bernNB_easy.fit(x_train_easy,y_train_easy)\n",
        "bernNB_hard.fit(x_train_hard,y_train_hard)\n",
        "\n",
        "y_pred_berNB_easy = bernNB_easy.predict(x_test_easy)\n",
        "y_pred_berNB_hard = bernNB_hard.predict(x_test_hard)\n",
        "\n",
        "\n",
        "print(\"Accuracy of berNB on easy ham: \", accuracy_score(y_pred_berNB_easy, y_test_easy.to_list()))\n",
        "print(\"Accuracy of berNB on hard ham: \", accuracy_score(y_pred_berNB_hard, y_test_hard.to_list()))"
      ]
    },
    {
      "cell_type": "markdown",
      "metadata": {},
      "source": [
        "# With filtered data"
      ]
    },
    {
      "cell_type": "code",
      "execution_count": 67,
      "metadata": {},
      "outputs": [],
      "source": [
        "x_train_easy, x_test_easy, y_train_easy, y_test_easy = train_test_split(emails_easy_ham[\"text\"], emails_easy_ham[\"category_num\"], test_size=0.25)\n",
        "x_train_hard, x_test_hard, y_train_hard, y_test_hard = train_test_split(emails_hard_ham[\"text\"], emails_hard_ham[\"category_num\"], test_size=0.25)\n",
        "\n",
        "custom_vectorizer_easy = CountVectorizer(stop_words=\"english\",max_df=500, min_df=1)\n",
        "custom_vectorizer_hard = CountVectorizer(stop_words=\"english\", max_df=1000, min_df=100)\n",
        "\n",
        "x_train_easy = custom_vectorizer_easy.fit_transform(x_train_easy)\n",
        "x_test_easy = custom_vectorizer_easy.transform(x_test_easy)\n",
        "\n",
        "y_train_easy = y_train_easy.astype(\"int\")"
      ]
    },
    {
      "cell_type": "code",
      "execution_count": 70,
      "metadata": {},
      "outputs": [
        {
          "name": "stdout",
          "output_type": "stream",
          "text": "Accuracy of multiNB on filtered easy ham: 0.9881889763779528\n"
        }
      ],
      "source": [
        "multiNB_easy_filtered = MultinomialNB()\n",
        "\n",
        "multiNB_easy_filtered.fit(x_train_easy,y_train_easy)\n",
        "\n",
        "pred = multiNB_easy_filtered.predict(x_test_easy)\n",
        "\n",
        "print(\"Accuracy of multiNB on filtered easy ham:\", accuracy_score(pred,y_test_easy.to_list()))\n",
        "\n"
      ]
    },
    {
      "cell_type": "code",
      "execution_count": null,
      "metadata": {},
      "outputs": [],
      "source": []
    }
  ]
}