{
 "nbformat": 4,
 "nbformat_minor": 2,
 "metadata": {
  "language_info": {
   "name": "python",
   "codemirror_mode": {
    "name": "ipython",
    "version": 3
   },
   "version": "3.7.4-final"
  },
  "orig_nbformat": 2,
  "file_extension": ".py",
  "mimetype": "text/x-python",
  "name": "python",
  "npconvert_exporter": "python",
  "pygments_lexer": "ipython3",
  "version": 3,
  "kernelspec": {
   "name": "python3",
   "display_name": "Python 3"
  }
 },
 "cells": [
  {
   "cell_type": "code",
   "execution_count": null,
   "metadata": {},
   "outputs": [
    {
     "evalue": "Error: Jupyter cannot be started. Error attempting to locate jupyter: Error: Module 'notebook' not installed.",
     "output_type": "error"
    }
   ],
   "source": [
    "#Imports and preamble\n",
    "import pandas as pd\n",
    "import matplotlib.pyplot as plt\n"
   ]
  },
  {
   "cell_type": "code",
   "execution_count": null,
   "metadata": {},
   "outputs": [
    {
     "evalue": "Error: Jupyter cannot be started. Error attempting to locate jupyter: Error: Module 'notebook' not installed.",
     "output_type": "error"
    }
   ],
   "source": [
    "# Load data for GDP and remove everything that isn't related to the year 2017\n",
    "gdp = pd.read_csv(\"data/gdp-per-capita-worldbank.csv\")\n",
    "gdp_year_not_2017 = gdp[ gdp['Year'] != 2017]\n",
    "gdp = gdp.drop(gdp_year_not_2017.index, axis=0)\n",
    "\n"
   ]
  },
  {
   "cell_type": "code",
   "execution_count": null,
   "metadata": {},
   "outputs": [
    {
     "evalue": "Error: Jupyter cannot be started. Error attempting to locate jupyter: Error: Module 'notebook' not installed.",
     "output_type": "error"
    }
   ],
   "source": [
    "# Load data for PISA Test scores and remove everything that isn't related to the year 2016\n",
    "PISA = pd.read_csv(\"data/pisa-test-score-mean-performance-on-the-science-scale.csv\")\n",
    "PISA_year_not_2016 = PISA[ PISA['Year'] != 2017]\n",
    "PISA = PISA.drop(PISA_year_not_2016.index, axis=0)"
   ]
  },
  {
   "cell_type": "code",
   "execution_count": null,
   "metadata": {},
   "outputs": [
    {
     "evalue": "Error: Jupyter cannot be started. Error attempting to locate jupyter: Error: Module 'notebook' not installed.",
     "output_type": "error"
    }
   ],
   "source": [
    "# Load data for internet usage and remove everything that isn't related to the year 2016\n",
    "internet = pd.read_csv(\"data/share-of-individuals-using-the-internet.csv\")\n",
    "internet_year_not_2016 = internet[ internet['Year'] != 2016]\n",
    "internet = internet.drop(internet_year_not_2016.index, axis=0)\n",
    "\n",
    "# Merge internet with PISA\n",
    "\n",
    "internet_PSIA = pd.merge(left=internet, right=PISA, left_on=[\"Year\", \"Code\", \"Entity\"], right_on=[\"Year\", \"Code\", \"Entity\"])"
   ]
  },
  {
   "cell_type": "code",
   "execution_count": null,
   "metadata": {},
   "outputs": [
    {
     "evalue": "Error: Jupyter cannot be started. Error attempting to locate jupyter: Error: Module 'notebook' not installed.",
     "output_type": "error"
    }
   ],
   "source": [
    "# Load data for Life Expectancy and remove everything that isn't related to the year 2017\n",
    "le = pd.read_csv(\"data/life-expectancy.csv\")\n",
    "le_year_not_2017 = le[ le['Year'] != 2017]\n",
    "le = le.drop(le_year_not_2017.index, axis=0)\n",
    "\n",
    "\n"
   ]
  },
  {
   "cell_type": "code",
   "execution_count": null,
   "metadata": {},
   "outputs": [
    {
     "evalue": "Error: Jupyter cannot be started. Error attempting to locate jupyter: Error: Module 'notebook' not installed.",
     "output_type": "error"
    }
   ],
   "source": [
    "# Find countries with life expectancy one standard deviation above the mean (in 2017)\n",
    "mean = le[\"Life expectancy (years)\"].mean()\n",
    "std = le[\"Life expectancy (years)\"].std()\n",
    "le_one_std_above_mean = le[le[\"Life expectancy (years)\"] > mean+std]\n",
    "print(le_one_std_above_mean[[\"Entity\", \"Life expectancy (years)\"]].to_latex(index=False))\n",
    "\n"
   ]
  },
  {
   "cell_type": "code",
   "execution_count": null,
   "metadata": {},
   "outputs": [
    {
     "evalue": "Error: Jupyter cannot be started. Error attempting to locate jupyter: Error: Module 'notebook' not installed.",
     "output_type": "error"
    }
   ],
   "source": [
    "# Merge GDP with LE\n",
    "le_gdp = pd.merge(left=gdp, right=le, left_on=[\"Year\", \"Code\", \"Entity\"], right_on=[\"Year\", \"Code\", \"Entity\"])"
   ]
  },
  {
   "cell_type": "code",
   "execution_count": null,
   "metadata": {},
   "outputs": [
    {
     "evalue": "Error: Jupyter cannot be started. Error attempting to locate jupyter: Error: Module 'notebook' not installed.",
     "output_type": "error"
    }
   ],
   "source": [
    "# Find countries with high GDP and low Life Expectancy\n",
    "# As \"high\" is subjective, we'll here define it has being above mean. \"Low\" is defined in the opposite manner. You can change the variable num_std to use your own definition of \"high\".\n",
    "\n",
    "gdp_mean = le_gdp[\"GDP per capita (int.-$) (constant 2011 international $)\"].mean()\n",
    "le_mean = le_gdp[\"Life expectancy (years)\"].mean()\n",
    "\n",
    "countries_with_low_gdp_high_le = le_gdp.loc[(le_gdp[\"GDP per capita (int.-$) (constant 2011 international $)\"] < gdp_mean)\n",
    "    & (le_gdp[\"Life expectancy (years)\"] > le_mean)]\n",
    "    \n",
    "print(countries_with_low_gdp_high_le[[\"Entity\", \"GDP per capita (int.-$) (constant 2011 international $)\", \"Life expectancy (years)\"]].to_latex(index=False))\n"
   ]
  },
  {
   "cell_type": "code",
   "execution_count": null,
   "metadata": {},
   "outputs": [
    {
     "evalue": "Error: Jupyter cannot be started. Error attempting to locate jupyter: Error: Module 'notebook' not installed.",
     "output_type": "error"
    }
   ],
   "source": [
    "# Find countries with high GDP and low life expectancy\n",
    "countries_with_high_gdp_low_le = le_gdp.loc[(le_gdp[\"GDP per capita (int.-$) (constant 2011 international $)\"] > gdp_mean+(gdp_std))\n",
    "     & (le_gdp[\"Life expectancy (years)\"] < le_mean)]\n",
    "print(countries_with_high_gdp_low_le)"
   ]
  },
  {
   "cell_type": "code",
   "execution_count": null,
   "metadata": {},
   "outputs": [
    {
     "evalue": "Error: Jupyter cannot be started. Error attempting to locate jupyter: Error: Module 'notebook' not installed.",
     "output_type": "error"
    }
   ],
   "source": [
    "#Make the plot\n",
    "x = le_gdp[\"GDP per capita (int.-$) (constant 2011 international $)\"]\n",
    "y = le_gdp[\"Life expectancy (years)\"]\n",
    "\n",
    "plt.figure(figsize=(30,20))\n",
    "plt.scatter(x, y, s=500, color=\"b\", alpha=0.5)\n",
    "plt.xlabel(\"GDP\",fontsize=30)\n",
    "plt.ylabel(\"Life Expectancy\", fontsize=30)\n",
    "plt.tick_params(axis=\"both\",which=\"major\",labelsize=20)\n",
    "\n",
    "#Puts the country code on the points, this for loop takes some time to run\n",
    "for i, code in enumerate(le_gdp[\"Code\"]):\n",
    "    plt.annotate(code, (x[i], y[i]), fontsize=10, ha=\"center\", va=\"center\")\n",
    "\n",
    "plt.show"
   ]
  },
  {
   "cell_type": "code",
   "execution_count": null,
   "metadata": {},
   "outputs": [
    {
     "evalue": "Error: Jupyter cannot be started. Error attempting to locate jupyter: Error: Module 'notebook' not installed.",
     "output_type": "error"
    }
   ],
   "source": [
    "# Make the plot\n",
    "x = internet[\"Individuals using the Internet (% of population) (% of population)\"]\n",
    "y = PISA[\"PISA: Mean performance on the science scale\"]\n",
    "\n",
    "plt.figure(figsize(30,20))\n",
    "plt.scatter(x,y,s=500, color=\"b\", alpha=0.5)\n",
    "plt.xlabel(\"Internet usage\", fontsizek=30)\n",
    "plt.ylabel(\"PISA test scores (science)\", fontsize=30)\n",
    "plt.tick_params(axis=\"both\", which=\"major\", labelsize=20)\n",
    "\n",
    "# Puts the country code on the points, this for loop takes some time to run\n",
    "for i, code in enumerate(internet_PSIA[\"Code\"]):\n",
    "    plt.annotate(code,(x[i],y[i]), fontsize=10, ha=\"center\", va=\"center\")\n",
    "\n",
    "    plt.show"
   ]
  }
 ]
}