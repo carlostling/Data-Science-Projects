{
 "nbformat": 4,
 "nbformat_minor": 2,
 "metadata": {
  "language_info": {
   "name": "python",
   "codemirror_mode": {
    "name": "ipython",
    "version": 3
   },
   "version": "3.7.4-final"
  },
  "orig_nbformat": 2,
  "file_extension": ".py",
  "mimetype": "text/x-python",
  "name": "python",
  "npconvert_exporter": "python",
  "pygments_lexer": "ipython3",
  "version": 3,
  "kernelspec": {
   "name": "python3",
   "display_name": "Python 3"
  }
 },
 "cells": [
  {
   "cell_type": "code",
   "execution_count": null,
   "metadata": {},
   "outputs": [],
   "source": []
  },
  {
   "cell_type": "code",
   "execution_count": null,
   "metadata": {},
   "outputs": [],
   "source": [
    "import pandas as pd\n",
    "import matplotlib.pyplot as plt"
   ]
  },
  {
   "cell_type": "code",
   "execution_count": null,
   "metadata": {},
   "outputs": [],
   "source": [
    "gdp = pd.read_csv(\"data/gdp-per-capita-worldbank.csv\")\n",
    "\n",
    "year_counts = gdp['Year'].value_counts()\n",
    "year_counts\n",
    "\n",
    "gdp_year_less_than_2017 = gdp[ gdp['Year'] != 2011]\n",
    "gdp = gdp.drop(gdp_year_less_than_2017.index, axis=0)\n",
    "\n"
   ]
  },
  {
   "cell_type": "code",
   "execution_count": 41,
   "metadata": {},
   "outputs": [],
   "source": [
    "le = pd.read_csv(\"data/life-expectancy.csv\")\n",
    "\n",
    "year_counts = le['Year'].value_counts()\n",
    "year_counts\n",
    "\n",
    "le_year_less_than_2017 = le[ le['Year'] != 2011]\n",
    "le = le.drop(gdp_year_less_than_2017.index, axis=0)\n",
    "\n",
    "\n"
   ]
  },
  {
   "cell_type": "code",
   "execution_count": null,
   "metadata": {},
   "outputs": [],
   "source": [
    "dgdp = pd.read_csv(\"data/gdp-per-capita-worldbank.csv\")\n",
    "dle = pd.read_csv(\"data/life-expectancy.csv\")\n",
    "plt.scatter([dgdp,dle], [1000, 1500, 1800, 2000, 2500, 2800])\n",
    "plt.show\n"
   ]
  },
  {
   "cell_type": "code",
   "execution_count": null,
   "metadata": {},
   "outputs": [],
   "source": []
  }
 ]
}